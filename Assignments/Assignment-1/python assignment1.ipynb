{
 "cells": [
  {
   "cell_type": "code",
   "execution_count": 12,
   "metadata": {},
   "outputs": [
    {
     "name": "stdout",
     "output_type": "stream",
     "text": [
      "Enter name of friend:\n",
      "q\n",
      "Enter name of friend:\n",
      "w\n",
      "Enter name of friend:\n",
      "e\n",
      "Enter name of friend:\n",
      "r\n",
      "Enter name of friend:\n",
      "t\n",
      "Enter bill for q : \n",
      "25.2\n",
      "Enter bill for w : \n",
      "22.99\n",
      "Enter bill for e : \n",
      "23.5\n",
      "Enter bill for r : \n",
      "24.0\n",
      "Enter bill for t : \n",
      "24.8\n",
      "Names of Friends: ('q', 'w', 'e', 'r', 't')\n",
      "Individual bills: (25.2, 22.99, 23.5, 24.0, 24.8)\n",
      "Enter tip percentage: \n",
      "20\n",
      "Total bill plus tip: $ 144.59\n",
      "Each of us must pay $ 28.92\n"
     ]
    }
   ],
   "source": [
    "print('Enter name of friend:')\n",
    "name1 = input()\n",
    "print('Enter name of friend:')\n",
    "name2 = input()\n",
    "print('Enter name of friend:')\n",
    "name3 = input()\n",
    "print('Enter name of friend:')\n",
    "name4 = input()\n",
    "print('Enter name of friend:')\n",
    "name5 = input()\n",
    "   \n",
    "print(f'Enter bill for {name1} : ')\n",
    "bill1 = float(input())\n",
    "print(f'Enter bill for {name2} : ')\n",
    "bill2 = float(input())\n",
    "print(f'Enter bill for {name3} : ')\n",
    "bill3 = float(input())\n",
    "print(f'Enter bill for {name4} : ')\n",
    "bill4 = float(input())\n",
    "print(f'Enter bill for {name5} : ')\n",
    "bill5 = float(input())\n",
    "\n",
    "print(f'Names of Friends: {name1,name2,name3,name4,name5}')\n",
    "print(f'Individual bills: {bill1,bill2,bill3,bill4,bill5}')\n",
    "   \n",
    "totalbill=bill1+bill2+bill3+bill4+bill5\n",
    "\n",
    "print('Enter tip percentage: ')\n",
    "tipPercent = float(input())\n",
    "tipAmount=(tipPercent*totalbill)/100\n",
    "totalBill=totalbill+tipAmount\n",
    "print(f'Total bill plus tip: $ {round(totalBill,2)}')\n",
    "avgTotal=(totalBill)/5\n",
    "print(f'Each of us must pay $ {round(avgTotal,2)}')"
   ]
  },
  {
   "cell_type": "code",
   "execution_count": null,
   "metadata": {},
   "outputs": [],
   "source": []
  }
 ],
 "metadata": {
  "kernelspec": {
   "display_name": "Python 3",
   "language": "python",
   "name": "python3"
  },
  "language_info": {
   "codemirror_mode": {
    "name": "ipython",
    "version": 3
   },
   "file_extension": ".py",
   "mimetype": "text/x-python",
   "name": "python",
   "nbconvert_exporter": "python",
   "pygments_lexer": "ipython3",
   "version": "3.8.5"
  }
 },
 "nbformat": 4,
 "nbformat_minor": 4
}
