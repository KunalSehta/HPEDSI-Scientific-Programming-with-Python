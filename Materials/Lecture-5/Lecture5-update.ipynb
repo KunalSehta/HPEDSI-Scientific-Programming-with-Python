{
 "cells": [
  {
   "cell_type": "code",
   "execution_count": null,
   "metadata": {},
   "outputs": [],
   "source": [
    "fileHandle = open('myfile.txt')"
   ]
  },
  {
   "cell_type": "code",
   "execution_count": null,
   "metadata": {},
   "outputs": [],
   "source": [
    "fileHandle.close()"
   ]
  },
  {
   "cell_type": "code",
   "execution_count": null,
   "metadata": {},
   "outputs": [],
   "source": [
    "#reading the content in TomSawyer file\u000b",
    "\n",
    "fileHandle = open('TomSawyer.txt')\n",
    "content = fileHandle.read()\n",
    "print(content)\n",
    "fileHandle.close()"
   ]
  },
  {
   "cell_type": "code",
   "execution_count": null,
   "metadata": {},
   "outputs": [],
   "source": [
    "#we can also use the readlines method\n",
    "fileHandle = open('TomSawyer.txt')\n",
    "lines = fileHandle.readlines()\n",
    "for line in lines:\n",
    "    print(line)\n",
    "fileHandle.close()\n"
   ]
  },
  {
   "cell_type": "markdown",
   "metadata": {},
   "source": [
    "### Reading files in Python! \n",
    "##### Pay attention to:\n",
    "- If the file doesn’t exist or is not in the path specified python will throw an error\n",
    "- Content from the file is read as String use type conversion when needed \n",
    "- Remember to close the file once you’re done!\n"
   ]
  },
  {
   "cell_type": "markdown",
   "metadata": {},
   "source": [
    "## Writing to a file"
   ]
  },
  {
   "cell_type": "code",
   "execution_count": null,
   "metadata": {},
   "outputs": [],
   "source": [
    "#To write data to a file you need to:\n",
    "#Open a file in writing mode:\n",
    "\n",
    "fileHandle = open('myfile2.txt', 'w')\n",
    "\n",
    "#Use the write method to send data to the file:\n",
    "\n",
    "fileHandle.write(\"Stuff needs to be stored permanently\\n\")\n",
    "\n",
    "#Close file when you’re done!\n",
    "\n",
    "fileHandle.close()\n"
   ]
  },
  {
   "cell_type": "markdown",
   "metadata": {},
   "source": [
    "### When Writing to a file\n",
    "#### Pay attention to:\n",
    "- If the file already exists, it will be rewritten, if it doesn’t it will be created\n",
    "- The write method takes only strings as arguments, __so when needed use type conversion__ \n",
    "- Remember to close the file when done!\n",
    "\n"
   ]
  },
  {
   "cell_type": "markdown",
   "metadata": {},
   "source": [
    "### Open file options\n",
    "- See slides"
   ]
  },
  {
   "cell_type": "code",
   "execution_count": null,
   "metadata": {},
   "outputs": [],
   "source": [
    "with open ('myfile_d.txt', 'w') as f:\n",
    "    a,b=4,6\n",
    "    f.write(str(a)+\"\\n\")\n",
    "    f.write(str(b)+\"\\n\")\n",
    "#no need to call f.close() - f closes automatically \n",
    "# once the with block is exited\n",
    "\n",
    "\n",
    "    "
   ]
  },
  {
   "cell_type": "code",
   "execution_count": null,
   "metadata": {},
   "outputs": [],
   "source": [
    "print (\"Opening myfile.txt\")\n",
    "with open ('myfile_d.txt', 'r+') as f:\n",
    "    num1 = eval(f.readline())\n",
    "    print (num1, type (num1))\n",
    "    num2 = eval(f.readline())\n",
    "    print (num2, type (num1))\n",
    "    \n",
    "    product = num1 * num2\n",
    "    f.write(\"\\n\")\n",
    "    f.write(str(product))\n",
    "    #rewind\n",
    "    f.seek(0)\n",
    "    data=f.read()\n",
    "    print (data)"
   ]
  },
  {
   "cell_type": "code",
   "execution_count": null,
   "metadata": {},
   "outputs": [],
   "source": []
  },
  {
   "cell_type": "code",
   "execution_count": null,
   "metadata": {},
   "outputs": [],
   "source": [
    "a=0\n",
    "with open('myfile2.txt', 'r+') as f2:\n",
    "    a=f2.read()\n",
    "    f2.write(\"\\nMore Stuff needs to be stored permanently\")\n",
    "print(a)"
   ]
  },
  {
   "cell_type": "markdown",
   "metadata": {},
   "source": [
    "# Dictionarys"
   ]
  },
  {
   "cell_type": "code",
   "execution_count": 1,
   "metadata": {},
   "outputs": [
    {
     "name": "stdout",
     "output_type": "stream",
     "text": [
      "{}\n"
     ]
    }
   ],
   "source": [
    "acronyms={} # create empty dictionary\n",
    "print (acronyms)"
   ]
  },
  {
   "cell_type": "code",
   "execution_count": 2,
   "metadata": {},
   "outputs": [
    {
     "name": "stdout",
     "output_type": "stream",
     "text": [
      "{'lol': 'laughing out loud'}\n"
     ]
    }
   ],
   "source": [
    "acronyms['lol'] = \"laughing out loud\"\n",
    "print (acronyms)"
   ]
  },
  {
   "cell_type": "code",
   "execution_count": 3,
   "metadata": {},
   "outputs": [
    {
     "data": {
      "text/plain": [
       "1"
      ]
     },
     "execution_count": 3,
     "metadata": {},
     "output_type": "execute_result"
    }
   ],
   "source": [
    "len(acronyms)"
   ]
  },
  {
   "cell_type": "code",
   "execution_count": 4,
   "metadata": {},
   "outputs": [
    {
     "name": "stdout",
     "output_type": "stream",
     "text": [
      "{'lol': 'laughing out loud', 'tty': 'talk to you later', 'bfn': 'bye for now'}\n"
     ]
    }
   ],
   "source": [
    "\n",
    "acronyms['tty'] = \"talk to you later\"\n",
    "acronyms['bfn'] = \"bye for now\"\n",
    "print (acronyms)"
   ]
  },
  {
   "cell_type": "code",
   "execution_count": 5,
   "metadata": {},
   "outputs": [
    {
     "data": {
      "text/plain": [
       "3"
      ]
     },
     "execution_count": 5,
     "metadata": {},
     "output_type": "execute_result"
    }
   ],
   "source": [
    "len(acronyms)"
   ]
  },
  {
   "cell_type": "code",
   "execution_count": 6,
   "metadata": {},
   "outputs": [
    {
     "name": "stdout",
     "output_type": "stream",
     "text": [
      "{'lol': 'Laughing Out Loud', 'tty': 'talk to you later', 'bfn': 'bye for now'}\n"
     ]
    }
   ],
   "source": [
    "acronyms['lol'] = \"Laughing Out Loud\"\n",
    "print (acronyms)"
   ]
  },
  {
   "cell_type": "code",
   "execution_count": 7,
   "metadata": {},
   "outputs": [
    {
     "name": "stdout",
     "output_type": "stream",
     "text": [
      "{'lol': 'Laughing Out Loud', 'tty': 'talk to you later', 'bfn': 'bye for now'}\n"
     ]
    }
   ],
   "source": [
    "acronyms['lol'] = \"Laughing Out Loud\"\n",
    "print (acronyms)"
   ]
  },
  {
   "cell_type": "code",
   "execution_count": 8,
   "metadata": {},
   "outputs": [
    {
     "data": {
      "text/plain": [
       "3"
      ]
     },
     "execution_count": 8,
     "metadata": {},
     "output_type": "execute_result"
    }
   ],
   "source": [
    "len(acronyms)"
   ]
  },
  {
   "cell_type": "code",
   "execution_count": 9,
   "metadata": {},
   "outputs": [],
   "source": [
    "acronyms = {'bfn': 'bye for now', 'tty': 'talk to you later', 'lol': 'laughing out loud'}"
   ]
  },
  {
   "cell_type": "code",
   "execution_count": 7,
   "metadata": {},
   "outputs": [],
   "source": [
    "#Example: Store the employee records indexed by SS#\n",
    "Employees = {456965079: 'David Smith', \n",
    "             823878356: 'Lisa Miller',\n",
    "             813756744: 'Pat Murphy'  }\n"
   ]
  },
  {
   "cell_type": "code",
   "execution_count": 9,
   "metadata": {},
   "outputs": [
    {
     "name": "stdout",
     "output_type": "stream",
     "text": [
      "David Smith\n"
     ]
    }
   ],
   "source": [
    "if 456965079 in Employees:\n",
    "    print(Employees[456965079])\n",
    "else:\n",
    "    print(\"This SSN doesn't exist in our data base\")\n"
   ]
  },
  {
   "cell_type": "code",
   "execution_count": 11,
   "metadata": {},
   "outputs": [
    {
     "name": "stdout",
     "output_type": "stream",
     "text": [
      "This SSN doesn't exist in our data base\n",
      "Enter Employees name\n",
      "Jerry E\n",
      "We just added Jerry E to our database\n"
     ]
    },
    {
     "data": {
      "text/plain": [
       "{456965079: 'David Smith',\n",
       " 823878356: 'Lisa Miller',\n",
       " 813756744: 'Pat Murphy',\n",
       " 456965080: 'Jerry E'}"
      ]
     },
     "execution_count": 11,
     "metadata": {},
     "output_type": "execute_result"
    }
   ],
   "source": [
    "x=456965080\n",
    "if x in Employees:\n",
    "    print(Employees[x])\n",
    "else:\n",
    "    print(\"This SSN doesn't exist in our data base\")\n",
    "    name=input(\"Enter Employees name\\n\")\n",
    "    Employees[x]= name\n",
    "    print(f\"We just added {name} to our database\")\n",
    "\n",
    "Employees  "
   ]
  },
  {
   "cell_type": "code",
   "execution_count": 13,
   "metadata": {},
   "outputs": [],
   "source": [
    "def checkE(x, data):\n",
    "    if x in data:\n",
    "        print(data[x])\n",
    "    else:\n",
    "        print(\"This SSN doesn't exist in our data base\")\n",
    "        name=input(\"Enter Employees name\\n\")\n",
    "        data[x]= name\n",
    "        print(f\"We just added {name} to our database\")"
   ]
  },
  {
   "cell_type": "code",
   "execution_count": 14,
   "metadata": {},
   "outputs": [
    {
     "name": "stdout",
     "output_type": "stream",
     "text": [
      "This SSN doesn't exist in our data base\n",
      "Enter Employees name\n",
      "Tom Hanks\n",
      "We just added Tom Hanks to our database\n"
     ]
    }
   ],
   "source": [
    "checkE(899,Employees)"
   ]
  },
  {
   "cell_type": "code",
   "execution_count": 15,
   "metadata": {},
   "outputs": [
    {
     "data": {
      "text/plain": [
       "{456965079: 'David Smith',\n",
       " 823878356: 'Lisa Miller',\n",
       " 813756744: 'Pat Murphy',\n",
       " 456965080: 'Jerry E',\n",
       " 899: 'Tom Hanks'}"
      ]
     },
     "execution_count": 15,
     "metadata": {},
     "output_type": "execute_result"
    }
   ],
   "source": [
    "Employees"
   ]
  },
  {
   "cell_type": "code",
   "execution_count": 16,
   "metadata": {},
   "outputs": [
    {
     "name": "stdout",
     "output_type": "stream",
     "text": [
      "This SSN doesn't exist in our data base\n",
      "Enter Employees name\n",
      "Jerry H\n",
      "We just added Jerry H to our database\n",
      "This SSN doesn't exist in our data base\n",
      "Enter Employees name\n",
      "Jerry Y\n",
      "We just added Jerry Y to our database\n",
      "This SSN doesn't exist in our data base\n",
      "Enter Employees name\n",
      "Jerry Z\n",
      "We just added Jerry Z to our database\n"
     ]
    },
    {
     "data": {
      "text/plain": [
       "{456965079: 'David Smith',\n",
       " 823878356: 'Lisa Miller',\n",
       " 813756744: 'Pat Murphy',\n",
       " 456965080: 'Jerry E',\n",
       " 899: 'Tom Hanks',\n",
       " 1234: 'Jerry H',\n",
       " 56: 'Jerry Y',\n",
       " 87: 'Jerry Z'}"
      ]
     },
     "execution_count": 16,
     "metadata": {},
     "output_type": "execute_result"
    }
   ],
   "source": [
    "newd=[1234, 56, 87]\n",
    "for i in newd:\n",
    "    checkE(i,Employees)\n",
    "Employees"
   ]
  },
  {
   "cell_type": "code",
   "execution_count": 20,
   "metadata": {},
   "outputs": [],
   "source": [
    "Employees2 = {456965079: {'name':'David Smith','salary':100000}, \n",
    "             823878356: {'name':'Lisa Miller','salary':120000}\n",
    "            }\n"
   ]
  },
  {
   "cell_type": "code",
   "execution_count": 21,
   "metadata": {},
   "outputs": [
    {
     "data": {
      "text/plain": [
       "2"
      ]
     },
     "execution_count": 21,
     "metadata": {},
     "output_type": "execute_result"
    }
   ],
   "source": [
    "len(Employees2)"
   ]
  },
  {
   "cell_type": "code",
   "execution_count": 22,
   "metadata": {},
   "outputs": [
    {
     "name": "stdout",
     "output_type": "stream",
     "text": [
      "{456965079: {'name': 'David Smith', 'salary': 100000}, 823878356: {'name': 'Lisa Miller', 'salary': 120000}}\n"
     ]
    }
   ],
   "source": [
    "print(Employees2)"
   ]
  },
  {
   "cell_type": "code",
   "execution_count": 27,
   "metadata": {},
   "outputs": [
    {
     "data": {
      "text/plain": [
       "120000"
      ]
     },
     "execution_count": 27,
     "metadata": {},
     "output_type": "execute_result"
    }
   ],
   "source": [
    "max(Employees2[823878356]['salary'] ,  Employees2[456965079]['salary'])"
   ]
  },
  {
   "cell_type": "code",
   "execution_count": null,
   "metadata": {},
   "outputs": [],
   "source": [
    "max (Employees2)"
   ]
  },
  {
   "cell_type": "code",
   "execution_count": 11,
   "metadata": {},
   "outputs": [
    {
     "data": {
      "text/plain": [
       "3"
      ]
     },
     "execution_count": 11,
     "metadata": {},
     "output_type": "execute_result"
    }
   ],
   "source": [
    "len(Employees)"
   ]
  },
  {
   "cell_type": "code",
   "execution_count": 12,
   "metadata": {},
   "outputs": [
    {
     "name": "stdout",
     "output_type": "stream",
     "text": [
      "{456965079: 'David Smith', 823878356: 'Lisa Miller', 813756744: 'Pat Murphy'}\n"
     ]
    }
   ],
   "source": [
    "print(Employees)"
   ]
  },
  {
   "cell_type": "code",
   "execution_count": 14,
   "metadata": {},
   "outputs": [
    {
     "name": "stdout",
     "output_type": "stream",
     "text": [
      "456965079 823878356 813756744\n"
     ]
    }
   ],
   "source": [
    "print(*Employees)"
   ]
  },
  {
   "cell_type": "code",
   "execution_count": 15,
   "metadata": {},
   "outputs": [
    {
     "data": {
      "text/plain": [
       "'Pat Murphy'"
      ]
     },
     "execution_count": 15,
     "metadata": {},
     "output_type": "execute_result"
    }
   ],
   "source": [
    "Employees[813756744]"
   ]
  },
  {
   "cell_type": "code",
   "execution_count": 16,
   "metadata": {},
   "outputs": [
    {
     "data": {
      "text/plain": [
       "'Lisa Miller'"
      ]
     },
     "execution_count": 16,
     "metadata": {},
     "output_type": "execute_result"
    }
   ],
   "source": [
    "Employees[823878356]"
   ]
  },
  {
   "cell_type": "code",
   "execution_count": 1,
   "metadata": {},
   "outputs": [],
   "source": [
    "# Another example\n",
    "inventory = {'apples':430, 'pears':217, 'oranges':525, 'bananas':312}"
   ]
  },
  {
   "cell_type": "code",
   "execution_count": 8,
   "metadata": {},
   "outputs": [
    {
     "name": "stdout",
     "output_type": "stream",
     "text": [
      "{'apples': 430, 'pears': 217, 'oranges': 525, 'bananas': 312}\n"
     ]
    }
   ],
   "source": [
    "print(inventory)"
   ]
  },
  {
   "cell_type": "code",
   "execution_count": 9,
   "metadata": {},
   "outputs": [
    {
     "data": {
      "text/plain": [
       "dict_keys(['apples', 'pears', 'oranges', 'bananas'])"
      ]
     },
     "execution_count": 9,
     "metadata": {},
     "output_type": "execute_result"
    }
   ],
   "source": [
    "inventory.keys()"
   ]
  },
  {
   "cell_type": "code",
   "execution_count": 10,
   "metadata": {},
   "outputs": [
    {
     "data": {
      "text/plain": [
       "dict_values([430, 217, 525, 312])"
      ]
     },
     "execution_count": 10,
     "metadata": {},
     "output_type": "execute_result"
    }
   ],
   "source": [
    "inventory.values()"
   ]
  },
  {
   "cell_type": "code",
   "execution_count": 11,
   "metadata": {},
   "outputs": [
    {
     "data": {
      "text/plain": [
       "dict_items([('apples', 430), ('pears', 217), ('oranges', 525), ('bananas', 312)])"
      ]
     },
     "execution_count": 11,
     "metadata": {},
     "output_type": "execute_result"
    }
   ],
   "source": [
    "inventory.items()"
   ]
  },
  {
   "cell_type": "code",
   "execution_count": 15,
   "metadata": {},
   "outputs": [
    {
     "data": {
      "text/plain": [
       "0"
      ]
     },
     "execution_count": 15,
     "metadata": {},
     "output_type": "execute_result"
    }
   ],
   "source": [
    "inventory.get('grape',0)"
   ]
  },
  {
   "cell_type": "code",
   "execution_count": 18,
   "metadata": {},
   "outputs": [
    {
     "data": {
      "text/plain": [
       "430"
      ]
     },
     "execution_count": 18,
     "metadata": {},
     "output_type": "execute_result"
    }
   ],
   "source": [
    "inventory.get('apples',0) + inventory.get('grapes',0)"
   ]
  },
  {
   "cell_type": "code",
   "execution_count": 19,
   "metadata": {},
   "outputs": [
    {
     "name": "stdout",
     "output_type": "stream",
     "text": [
      "Got key apples which maps to value 430\n",
      "Got key pears which maps to value 217\n",
      "Got key oranges which maps to value 525\n",
      "Got key bananas which maps to value 312\n"
     ]
    }
   ],
   "source": [
    "for akey in inventory.keys(): \n",
    "      print(\"Got key\", akey, \"which maps to value\", inventory[akey])"
   ]
  },
  {
   "cell_type": "code",
   "execution_count": 6,
   "metadata": {},
   "outputs": [
    {
     "name": "stdout",
     "output_type": "stream",
     "text": [
      "312\n"
     ]
    }
   ],
   "source": [
    "print(inventory['bananas'])"
   ]
  },
  {
   "cell_type": "code",
   "execution_count": null,
   "metadata": {},
   "outputs": [],
   "source": []
  },
  {
   "cell_type": "code",
   "execution_count": 7,
   "metadata": {},
   "outputs": [
    {
     "data": {
      "text/plain": [
       "517"
      ]
     },
     "execution_count": 7,
     "metadata": {},
     "output_type": "execute_result"
    }
   ],
   "source": [
    "inventory['pears'] + 300"
   ]
  },
  {
   "cell_type": "code",
   "execution_count": 25,
   "metadata": {},
   "outputs": [
    {
     "name": "stdout",
     "output_type": "stream",
     "text": [
      "{'apples': 430, 'pears': 217, 'oranges': 525, 'bananas': 312}\n"
     ]
    }
   ],
   "source": [
    "print (inventory)\n",
    "inventory['bananas']= inventory['bananas']  + 200"
   ]
  },
  {
   "cell_type": "code",
   "execution_count": 29,
   "metadata": {},
   "outputs": [
    {
     "name": "stdout",
     "output_type": "stream",
     "text": [
      "{'apples': 430, 'pears': 217, 'oranges': 525, 'bananas': 312}\n",
      "{'apples': 430, 'pears': 217, 'oranges': 525, 'bananas': 512}\n"
     ]
    }
   ],
   "source": [
    "inventory = {'apples':430, 'pears':217, 'oranges':525, 'bananas':312}\n",
    "print (inventory)\n",
    "\n",
    "inventory['bananas'] += 200\n",
    "print (inventory)\n"
   ]
  },
  {
   "cell_type": "code",
   "execution_count": 28,
   "metadata": {},
   "outputs": [
    {
     "name": "stdout",
     "output_type": "stream",
     "text": [
      "{'apples': 430, 'pears': 217, 'oranges': 525, 'bananas': 512}\n"
     ]
    }
   ],
   "source": [
    "print (inventory)"
   ]
  },
  {
   "cell_type": "markdown",
   "metadata": {},
   "source": [
    "### Mergeing Dictionaries\n"
   ]
  },
  {
   "cell_type": "code",
   "execution_count": 28,
   "metadata": {},
   "outputs": [
    {
     "name": "stdout",
     "output_type": "stream",
     "text": [
      "{'apples': 430, 'bananas': 312, 'oranges': 525, 'pears': 217}\n"
     ]
    }
   ],
   "source": [
    "# Mergeing Dictionaries with **\n",
    "inventory1 = {'apples': 430, 'bananas': 312}\n",
    "inventory2=  {'oranges': 525, 'pears': 217}\n",
    "inventory  =  {**inventory1, **inventory2}\n",
    "print(inventory)\n"
   ]
  },
  {
   "cell_type": "code",
   "execution_count": 1,
   "metadata": {},
   "outputs": [
    {
     "name": "stdout",
     "output_type": "stream",
     "text": [
      "{'apples': 430, 'bananas': 312, 'oranges': 525, 'pears': 217}\n"
     ]
    }
   ],
   "source": [
    "# Mergeing Dictionaries with **\n",
    "inventory1 = {'apples': 430, 'bananas': 312}\n",
    "inventory2=  {'oranges': 525, 'pears': 217}\n",
    "inventory  =   inventory1 | inventory2\n",
    "print(inventory)"
   ]
  },
  {
   "cell_type": "code",
   "execution_count": null,
   "metadata": {},
   "outputs": [],
   "source": [
    "test1={}"
   ]
  },
  {
   "cell_type": "code",
   "execution_count": 5,
   "metadata": {},
   "outputs": [
    {
     "name": "stdout",
     "output_type": "stream",
     "text": [
      "Enter Age\n",
      "44\n"
     ]
    }
   ],
   "source": [
    "test1['a']=input(\"Enter Age\\n\")"
   ]
  },
  {
   "cell_type": "code",
   "execution_count": 6,
   "metadata": {},
   "outputs": [
    {
     "name": "stdout",
     "output_type": "stream",
     "text": [
      "{'a': '44'}\n"
     ]
    }
   ],
   "source": [
    "print(test1)"
   ]
  },
  {
   "cell_type": "code",
   "execution_count": 36,
   "metadata": {},
   "outputs": [
    {
     "name": "stdout",
     "output_type": "stream",
     "text": [
      "{'apples': 430, 'bananas': 312}\n",
      "{'apples': 430, 'bananas': 312, 'oranges': 525, 'pears': 217}\n"
     ]
    }
   ],
   "source": [
    "# Mergeing Dictionaries with update method\n",
    "inventory1 = {'apples': 430, 'bananas': 312}\n",
    "inventory2=  {'oranges': 525, 'pears': 217}\n",
    "inventory  =  {}\n",
    "inventory.update(inventory1)\n",
    "print(inventory)\n",
    "inventory.update(inventory2)\n",
    "\n",
    "print(inventory)"
   ]
  },
  {
   "cell_type": "markdown",
   "metadata": {},
   "source": [
    "### Iterating through dictionaries or dictionary transversal"
   ]
  },
  {
   "cell_type": "code",
   "execution_count": 37,
   "metadata": {},
   "outputs": [
    {
     "name": "stdout",
     "output_type": "stream",
     "text": [
      "apples\n",
      "bananas\n",
      "oranges\n",
      "pears\n"
     ]
    }
   ],
   "source": [
    "for item in inventory:\n",
    "    print (item)"
   ]
  },
  {
   "cell_type": "code",
   "execution_count": 38,
   "metadata": {},
   "outputs": [
    {
     "name": "stdout",
     "output_type": "stream",
     "text": [
      "apples\n",
      "bananas\n",
      "oranges\n",
      "pears\n"
     ]
    }
   ],
   "source": [
    "for item in inventory.keys():\n",
    "    print (item)"
   ]
  },
  {
   "cell_type": "code",
   "execution_count": 39,
   "metadata": {},
   "outputs": [
    {
     "name": "stdout",
     "output_type": "stream",
     "text": [
      "430\n",
      "312\n",
      "525\n",
      "217\n"
     ]
    }
   ],
   "source": [
    "for item in inventory.values():\n",
    "    print (item)"
   ]
  },
  {
   "cell_type": "code",
   "execution_count": 40,
   "metadata": {},
   "outputs": [
    {
     "name": "stdout",
     "output_type": "stream",
     "text": [
      "('apples', 430)\n",
      "('bananas', 312)\n",
      "('oranges', 525)\n",
      "('pears', 217)\n"
     ]
    }
   ],
   "source": [
    "for item in inventory.items():\n",
    "    print (item)"
   ]
  },
  {
   "cell_type": "code",
   "execution_count": 43,
   "metadata": {},
   "outputs": [
    {
     "name": "stdout",
     "output_type": "stream",
     "text": [
      "430\n",
      "312\n",
      "525\n",
      "217\n"
     ]
    }
   ],
   "source": [
    "for item in inventory.items():\n",
    "    key,value = item\n",
    "    print (value)"
   ]
  },
  {
   "cell_type": "code",
   "execution_count": 44,
   "metadata": {},
   "outputs": [
    {
     "name": "stdout",
     "output_type": "stream",
     "text": [
      "430 of value at this key apples\n",
      "312 of value at this key bananas\n",
      "525 of value at this key oranges\n",
      "217 of value at this key pears\n"
     ]
    }
   ],
   "source": [
    "for item in inventory.items():\n",
    "    key,value = item\n",
    "    print (value, \"of value at this key\",key)"
   ]
  },
  {
   "cell_type": "code",
   "execution_count": 45,
   "metadata": {},
   "outputs": [
    {
     "name": "stdout",
     "output_type": "stream",
     "text": [
      "430 of value at this key apples\n",
      "312 of value at this key bananas\n",
      "525 of value at this key oranges\n",
      "217 of value at this key pears\n"
     ]
    }
   ],
   "source": [
    "for key,value in inventory.items():\n",
    "    print (value, \"of value at this key\",key)"
   ]
  },
  {
   "cell_type": "markdown",
   "metadata": {},
   "source": [
    "### Dictionary Comprehension"
   ]
  },
  {
   "cell_type": "code",
   "execution_count": 46,
   "metadata": {},
   "outputs": [
    {
     "name": "stdout",
     "output_type": "stream",
     "text": [
      "[1, 4, 9]\n"
     ]
    }
   ],
   "source": [
    "#remember list comprehension\n",
    "squares=[i**2 for i in [1,2,3]]\n",
    "\n",
    "print(squares)"
   ]
  },
  {
   "cell_type": "code",
   "execution_count": 47,
   "metadata": {},
   "outputs": [
    {
     "name": "stdout",
     "output_type": "stream",
     "text": [
      "{'x': 1, 'y': 4, 'z': 9}\n"
     ]
    }
   ],
   "source": [
    "# dictionary version\n",
    "xyz = {'x': 1, 'y': 2, 'z': 3}\n",
    "# Square each value in the dictionary\n",
    "square_xyz = {i:j**2 for (i,j) in xyz.items()}\n",
    "print(square_xyz)"
   ]
  },
  {
   "cell_type": "code",
   "execution_count": 50,
   "metadata": {},
   "outputs": [
    {
     "name": "stdout",
     "output_type": "stream",
     "text": [
      "{'squared_x': 1, 'squared_y': 4, 'squared_z': 9}\n"
     ]
    }
   ],
   "source": [
    "# dictionary version\n",
    "xyz = {'x': 1, 'y': 2, 'z': 3}\n",
    "# Square each value in the dictionary\n",
    "square_xyz = {\"squared_\"+i:j**2 for (i,j) in xyz.items()}\n",
    "print(square_xyz)"
   ]
  },
  {
   "cell_type": "code",
   "execution_count": 48,
   "metadata": {},
   "outputs": [
    {
     "data": {
      "text/plain": [
       "[31.11111111111111,\n",
       " 34.44444444444444,\n",
       " 38.888888888888886,\n",
       " 37.22222222222222,\n",
       " 38.333333333333336,\n",
       " 36.666666666666664,\n",
       " 35.0,\n",
       " 37.77777777777778]"
      ]
     },
     "execution_count": 48,
     "metadata": {},
     "output_type": "execute_result"
    }
   ],
   "source": [
    "temperatures = [88, 94,102, 99, 101,98,95,100]\n",
    "# print convert temperatures \n",
    "\n",
    "[(t-32) * 5/9 for t  in temperatures]"
   ]
  },
  {
   "cell_type": "code",
   "execution_count": 49,
   "metadata": {},
   "outputs": [
    {
     "data": {
      "text/plain": [
       "{'t1': 31.11111111111111,\n",
       " 't2': 34.44444444444444,\n",
       " 't3': 38.888888888888886,\n",
       " 't4': 37.22222222222222,\n",
       " 't5': 38.333333333333336,\n",
       " 't6': 36.666666666666664,\n",
       " 't7': 35.0,\n",
       " 't8': 37.77777777777778}"
      ]
     },
     "execution_count": 49,
     "metadata": {},
     "output_type": "execute_result"
    }
   ],
   "source": [
    "temperatures ={\"t1\":88, \"t2\":94,\"t3\":102,\"t4\":99, \n",
    "               \"t5\":101,\"t6\": 98,\"t7\":95,\"t8\":100}\n",
    "# print convert temperatures \n",
    "\n",
    "{i:(j - 32) * 5/9   for (i,j) in temperatures.items()}"
   ]
  },
  {
   "cell_type": "code",
   "execution_count": null,
   "metadata": {},
   "outputs": [],
   "source": [
    "if 456965079 in Employees:\n",
    "    print(Employees[456965079])\n",
    "else:\n",
    "    print(\"This SSN doesn't exist in our data base\")\n"
   ]
  },
  {
   "cell_type": "code",
   "execution_count": 17,
   "metadata": {},
   "outputs": [
    {
     "name": "stdout",
     "output_type": "stream",
     "text": [
      "True\n",
      "left\n"
     ]
    }
   ],
   "source": [
    "# Dictionaries are mutable objects so you should expect the same behavior we learned with lists.\n",
    "\n",
    "opposites = {'up': 'down', 'right': 'wrong', 'true': 'false'}\n",
    "alias = opposites\n",
    "print(alias is opposites)\n",
    "alias['right'] = 'left'\n",
    "print(opposites['right'])\n"
   ]
  },
  {
   "cell_type": "code",
   "execution_count": 18,
   "metadata": {},
   "outputs": [
    {
     "name": "stdout",
     "output_type": "stream",
     "text": [
      "True\n"
     ]
    }
   ],
   "source": [
    "print(alias is opposites)"
   ]
  },
  {
   "cell_type": "code",
   "execution_count": 19,
   "metadata": {},
   "outputs": [
    {
     "name": "stdout",
     "output_type": "stream",
     "text": [
      "False\n",
      "wrong\n"
     ]
    }
   ],
   "source": [
    "#If you really want to create a copy of the dictionary use the dictionary copy method:\n",
    "\n",
    "opposites = {'up': 'down', 'right': 'wrong', 'true': 'false'}\n",
    "acopy = opposites.copy()\n",
    "print(acopy is opposites)\n",
    "acopy['right'] = 'left'\n",
    "print(opposites['right'])\n"
   ]
  },
  {
   "cell_type": "code",
   "execution_count": 20,
   "metadata": {},
   "outputs": [
    {
     "data": {
      "text/plain": [
       "False"
      ]
     },
     "execution_count": 20,
     "metadata": {},
     "output_type": "execute_result"
    }
   ],
   "source": [
    "acopy is opposites"
   ]
  },
  {
   "cell_type": "markdown",
   "metadata": {},
   "source": [
    "## Sparse Matrices"
   ]
  },
  {
   "cell_type": "code",
   "execution_count": 21,
   "metadata": {},
   "outputs": [],
   "source": [
    "matrix =[[0,0,0,1,0],\n",
    "         [0,0,0,0,0],\n",
    "         [0,2,0,0,0],\n",
    "         [0,0,0,0,0],\n",
    "         [0,0,0,3,0]]"
   ]
  },
  {
   "cell_type": "code",
   "execution_count": 22,
   "metadata": {},
   "outputs": [
    {
     "name": "stdout",
     "output_type": "stream",
     "text": [
      "[[0, 0, 0, 1, 0], [0, 0, 0, 0, 0], [0, 2, 0, 0, 0], [0, 0, 0, 0, 0], [0, 0, 0, 3, 0]]\n"
     ]
    }
   ],
   "source": [
    "print (matrix)"
   ]
  },
  {
   "cell_type": "code",
   "execution_count": 23,
   "metadata": {},
   "outputs": [],
   "source": [
    "matrix2 = {(0, 3): 1, (2, 1): 2, (4, 3): 3}"
   ]
  },
  {
   "cell_type": "code",
   "execution_count": 24,
   "metadata": {},
   "outputs": [
    {
     "data": {
      "text/plain": [
       "{(0, 3): 1, (2, 1): 2, (4, 3): 3}"
      ]
     },
     "execution_count": 24,
     "metadata": {},
     "output_type": "execute_result"
    }
   ],
   "source": [
    "matrix2"
   ]
  },
  {
   "cell_type": "code",
   "execution_count": 25,
   "metadata": {},
   "outputs": [
    {
     "name": "stdout",
     "output_type": "stream",
     "text": [
      "1\n"
     ]
    }
   ],
   "source": [
    "print (matrix2[0,3])"
   ]
  },
  {
   "cell_type": "code",
   "execution_count": 33,
   "metadata": {},
   "outputs": [
    {
     "name": "stdout",
     "output_type": "stream",
     "text": [
      "2\n"
     ]
    }
   ],
   "source": [
    "print (matrix2.get((2,1),0))"
   ]
  },
  {
   "cell_type": "code",
   "execution_count": 51,
   "metadata": {},
   "outputs": [
    {
     "name": "stdout",
     "output_type": "stream",
     "text": [
      "entry does not exist\n"
     ]
    }
   ],
   "source": [
    "print(matrix2.get((9, 3), \"entry does not exist\"))"
   ]
  },
  {
   "cell_type": "code",
   "execution_count": null,
   "metadata": {},
   "outputs": [],
   "source": []
  }
 ],
 "metadata": {
  "kernelspec": {
   "display_name": "Python3.9",
   "language": "python",
   "name": "python3.9"
  },
  "language_info": {
   "codemirror_mode": {
    "name": "ipython",
    "version": 3
   },
   "file_extension": ".py",
   "mimetype": "text/x-python",
   "name": "python",
   "nbconvert_exporter": "python",
   "pygments_lexer": "ipython3",
   "version": "3.9.1"
  }
 },
 "nbformat": 4,
 "nbformat_minor": 2
}
