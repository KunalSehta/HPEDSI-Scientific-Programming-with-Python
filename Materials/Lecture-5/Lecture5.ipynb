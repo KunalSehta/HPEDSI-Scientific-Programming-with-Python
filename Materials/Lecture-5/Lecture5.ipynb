{
 "cells": [
  {
   "cell_type": "code",
   "execution_count": null,
   "metadata": {},
   "outputs": [],
   "source": [
    "fileHandle = open('myfile.txt')"
   ]
  },
  {
   "cell_type": "code",
   "execution_count": null,
   "metadata": {},
   "outputs": [],
   "source": [
    "fileHandle.close()"
   ]
  },
  {
   "cell_type": "code",
   "execution_count": null,
   "metadata": {},
   "outputs": [],
   "source": [
    "#reading the content in TomSawyer file\u000b",
    "\n",
    "fileHandle = open('TomSawyer.txt')\n",
    "content = fileHandle.read()\n",
    "print(content)\n",
    "fileHandle.close()"
   ]
  },
  {
   "cell_type": "code",
   "execution_count": null,
   "metadata": {},
   "outputs": [],
   "source": [
    "#we can also use the readlines method\n",
    "fileHandle = open('TomSawyer.txt')\n",
    "lines = fileHandle.readlines()\n",
    "for line in lines:\n",
    "    print(line)\n",
    "fileHandle.close()\n"
   ]
  },
  {
   "cell_type": "markdown",
   "metadata": {},
   "source": [
    "### Reading files in Python! \n",
    "##### Pay attention to:\n",
    "- If the file doesn’t exist or is not in the path specified python will throw an error\n",
    "- Content from the file is read as String use type conversion when needed \n",
    "- Remember to close the file once you’re done!\n"
   ]
  },
  {
   "cell_type": "markdown",
   "metadata": {},
   "source": [
    "## Writing to a file"
   ]
  },
  {
   "cell_type": "code",
   "execution_count": null,
   "metadata": {},
   "outputs": [],
   "source": [
    "#To write data to a file you need to:\n",
    "#Open a file in writing mode:\n",
    "\n",
    "fileHandle = open('myfile2.txt', 'w')\n",
    "\n",
    "#Use the write method to send data to the file:\n",
    "\n",
    "fileHandle.write(\"Stuff needs to be stored permanently\\n\")\n",
    "\n",
    "#Close file when you’re done!\n",
    "\n",
    "fileHandle.close()\n"
   ]
  },
  {
   "cell_type": "markdown",
   "metadata": {},
   "source": [
    "### When Writing to a file\n",
    "#### Pay attention to:\n",
    "- If the file already exists, it will be rewritten, if it doesn’t it will be created\n",
    "- The write method takes only strings as arguments, __so when needed use type conversion__ \n",
    "- Remember to close the file when done!\n",
    "\n"
   ]
  },
  {
   "cell_type": "markdown",
   "metadata": {},
   "source": [
    "### Open file options\n",
    "- See slides"
   ]
  },
  {
   "cell_type": "code",
   "execution_count": null,
   "metadata": {},
   "outputs": [],
   "source": [
    "with open ('myfile_d.txt', 'w') as f:\n",
    "    a,b=4,6\n",
    "    f.write(str(a)+\"\\n\")\n",
    "    f.write(str(b)+\"\\n\")\n",
    "#no need to call f.close() - f closes automatically \n",
    "# once the with block is exited\n",
    "\n",
    "\n",
    "    "
   ]
  },
  {
   "cell_type": "code",
   "execution_count": null,
   "metadata": {},
   "outputs": [],
   "source": [
    "print (\"Opening myfile.txt\")\n",
    "with open ('myfile_d.txt', 'r+') as f:\n",
    "    num1 = eval(f.readline())\n",
    "    print (num1, type (num1))\n",
    "    num2 = eval(f.readline())\n",
    "    print (num2, type (num1))\n",
    "    \n",
    "    product = num1 * num2\n",
    "    f.write(\"\\n\")\n",
    "    f.write(str(product))\n",
    "    #rewind\n",
    "    f.seek(0)\n",
    "    data=f.read()\n",
    "    print (data)"
   ]
  },
  {
   "cell_type": "code",
   "execution_count": null,
   "metadata": {},
   "outputs": [],
   "source": []
  },
  {
   "cell_type": "code",
   "execution_count": null,
   "metadata": {},
   "outputs": [],
   "source": [
    "a=0\n",
    "with open('myfile2.txt', 'r+') as f2:\n",
    "    a=f2.read()\n",
    "    f2.write(\"\\nMore Stuff needs to be stored permanently\")\n",
    "print(a)"
   ]
  },
  {
   "cell_type": "markdown",
   "metadata": {},
   "source": [
    "# Dictionarys"
   ]
  },
  {
   "cell_type": "code",
   "execution_count": null,
   "metadata": {},
   "outputs": [],
   "source": [
    "acronyms={} # create empty dictionary"
   ]
  },
  {
   "cell_type": "code",
   "execution_count": null,
   "metadata": {},
   "outputs": [],
   "source": [
    "acronyms['lol'] = \"laughing out loud\"\n",
    "print (acronyms)"
   ]
  },
  {
   "cell_type": "code",
   "execution_count": null,
   "metadata": {},
   "outputs": [],
   "source": [
    "\n",
    "acronyms['tty'] = \"talk to you later\"\n",
    "acronyms['bfn'] = \"bye for now\"\n",
    "print (acronyms)"
   ]
  },
  {
   "cell_type": "code",
   "execution_count": null,
   "metadata": {},
   "outputs": [],
   "source": [
    "acronyms['lol'] = \"laughing out loud\"\n",
    "print (acronyms)"
   ]
  },
  {
   "cell_type": "code",
   "execution_count": null,
   "metadata": {},
   "outputs": [],
   "source": [
    "acronyms = {'bfn': 'bye for now', 'tty': 'talk to you later', 'lol': 'laughing out loud'}"
   ]
  },
  {
   "cell_type": "code",
   "execution_count": null,
   "metadata": {},
   "outputs": [],
   "source": [
    "#Example: Store the employee records indexed by SS#\n",
    "Employees = {456965079: 'David Smith', \n",
    "             823878356: 'Lisa Miller',\n",
    "             813756744: 'Pat Murphy'  }\n"
   ]
  },
  {
   "cell_type": "code",
   "execution_count": null,
   "metadata": {},
   "outputs": [],
   "source": [
    "Employees[813756744]"
   ]
  },
  {
   "cell_type": "code",
   "execution_count": null,
   "metadata": {},
   "outputs": [],
   "source": [
    "# Another example\n",
    "inventory = {'apples':430, 'pears':217, 'oranges':525, 'bananas':312}"
   ]
  },
  {
   "cell_type": "code",
   "execution_count": null,
   "metadata": {},
   "outputs": [],
   "source": [
    "print (inventory)\n",
    "inventory['bananas']=inventory['bananas'] + 200"
   ]
  },
  {
   "cell_type": "markdown",
   "metadata": {},
   "source": [
    "### Mergeing Dictionaries\n"
   ]
  },
  {
   "cell_type": "code",
   "execution_count": 1,
   "metadata": {},
   "outputs": [
    {
     "name": "stdout",
     "output_type": "stream",
     "text": [
      "{'apples': 430, 'bananas': 312, 'oranges': 525, 'pears': 217}\n"
     ]
    }
   ],
   "source": [
    "# Mergeing Dictionaries with **\n",
    "inventory1 = {'apples': 430, 'bananas': 312}\n",
    "inventory2=  {'oranges': 525, 'pears': 217}\n",
    "inventory  =  {**inventory1, **inventory2}\n",
    "print(inventory)\n"
   ]
  },
  {
   "cell_type": "code",
   "execution_count": 3,
   "metadata": {},
   "outputs": [
    {
     "name": "stdout",
     "output_type": "stream",
     "text": [
      "{'apples': 430, 'bananas': 312}\n",
      "{'apples': 430, 'bananas': 312, 'oranges': 525, 'pears': 217}\n"
     ]
    }
   ],
   "source": [
    "# Mergeing Dictionaries with update method\n",
    "inventory1 = {'apples': 430, 'bananas': 312}\n",
    "inventory2=  {'oranges': 525, 'pears': 217}\n",
    "inventory  =  {}\n",
    "inventory.update(inventory1)\n",
    "print(inventory)\n",
    "inventory.update(inventory2)\n",
    "\n",
    "print(inventory)"
   ]
  },
  {
   "cell_type": "markdown",
   "metadata": {},
   "source": [
    "### Iterating through dictionaries or dictionary transversal"
   ]
  },
  {
   "cell_type": "code",
   "execution_count": null,
   "metadata": {},
   "outputs": [],
   "source": [
    "for item in inventory:\n",
    "    print (item)"
   ]
  },
  {
   "cell_type": "code",
   "execution_count": null,
   "metadata": {},
   "outputs": [],
   "source": [
    "for item in inventory.items():\n",
    "    print (item)"
   ]
  },
  {
   "cell_type": "code",
   "execution_count": null,
   "metadata": {},
   "outputs": [],
   "source": [
    "for item in inventory.items():\n",
    "    key,value = item\n",
    "    print (key)"
   ]
  },
  {
   "cell_type": "code",
   "execution_count": null,
   "metadata": {},
   "outputs": [],
   "source": [
    "for item in inventory.items():\n",
    "    key,value = item\n",
    "    print (value, \"of value at this key\",key)"
   ]
  },
  {
   "cell_type": "markdown",
   "metadata": {},
   "source": [
    "### Dictionary Comprehension"
   ]
  },
  {
   "cell_type": "code",
   "execution_count": 4,
   "metadata": {},
   "outputs": [
    {
     "name": "stdout",
     "output_type": "stream",
     "text": [
      "[1, 4, 9]\n"
     ]
    }
   ],
   "source": [
    "#remember list comprehension\n",
    "squares=[i**2 for i in [1,2,3]]\n",
    "\n",
    "print(squares)"
   ]
  },
  {
   "cell_type": "code",
   "execution_count": 9,
   "metadata": {},
   "outputs": [
    {
     "name": "stdout",
     "output_type": "stream",
     "text": [
      "{'x': 1, 'y': 4, 'z': 9}\n"
     ]
    }
   ],
   "source": [
    "# dictionary version\n",
    "xyz = {'x': 1, 'y': 2, 'z': 3}\n",
    "# Square each value in the dictionary\n",
    "square_xyz = {i:j**2 for (i,j) in xyz.items()}\n",
    "print(square_xyz)"
   ]
  },
  {
   "cell_type": "code",
   "execution_count": 8,
   "metadata": {},
   "outputs": [
    {
     "data": {
      "text/plain": [
       "[31.11111111111111,\n",
       " 34.44444444444444,\n",
       " 38.888888888888886,\n",
       " 37.22222222222222,\n",
       " 38.333333333333336,\n",
       " 36.666666666666664,\n",
       " 35.0,\n",
       " 37.77777777777778]"
      ]
     },
     "execution_count": 8,
     "metadata": {},
     "output_type": "execute_result"
    }
   ],
   "source": [
    "temperatures = [88, 94,102, 99, 101,98,95,100]\n",
    "# print convert temperatures \n",
    "\n",
    "[(t-32) * 5/9 for t  in temperatures]"
   ]
  },
  {
   "cell_type": "code",
   "execution_count": 14,
   "metadata": {},
   "outputs": [
    {
     "data": {
      "text/plain": [
       "{'t1': 31.11111111111111,\n",
       " 't2': 34.44444444444444,\n",
       " 't3': 38.888888888888886,\n",
       " 't4': 37.22222222222222,\n",
       " 't5': 38.333333333333336,\n",
       " 't6': 36.666666666666664,\n",
       " 't7': 35.0,\n",
       " 't8': 37.77777777777778}"
      ]
     },
     "execution_count": 14,
     "metadata": {},
     "output_type": "execute_result"
    }
   ],
   "source": [
    "temperatures ={\"t1\":88, \"t2\":94,\"t3\":102,\"t4\":99, \n",
    "               \"t5\":101,\"t6\": 98,\"t7\":95,\"t8\":100}\n",
    "# print convert temperatures \n",
    "\n",
    "{i:(j - 32) * 5/9   for (i,j) in temperatures.items()}"
   ]
  },
  {
   "cell_type": "code",
   "execution_count": null,
   "metadata": {},
   "outputs": [],
   "source": [
    "if 456965079 in Employees:\n",
    "    print(Employees[456965079])\n",
    "else:\n",
    "    print(\"This SSN doesn't exist in our data base\")\n"
   ]
  },
  {
   "cell_type": "code",
   "execution_count": null,
   "metadata": {},
   "outputs": [],
   "source": [
    "# Dictionaries are mutable objects so you should expect the same behavior we learned with lists.\n",
    "\n",
    "opposites = {'up': 'down', 'right': 'wrong', 'true': 'false'}\n",
    "alias = opposites\n",
    "print(alias is opposites)\n",
    "alias['right'] = 'left'\n",
    "print(opposites['right'])\n"
   ]
  },
  {
   "cell_type": "code",
   "execution_count": null,
   "metadata": {},
   "outputs": [],
   "source": [
    "#If you really want to create a copy of the dictionary use the dictionary copy method:\n",
    "\n",
    "opposites = {'up': 'down', 'right': 'wrong', 'true': 'false'}\n",
    "acopy = opposites.copy()\n",
    "print(acopy is opposites)\n",
    "acopy['right'] = 'left'\n",
    "print(opposites['right'])\n"
   ]
  },
  {
   "cell_type": "markdown",
   "metadata": {},
   "source": [
    "## Sparse Matrices"
   ]
  },
  {
   "cell_type": "code",
   "execution_count": null,
   "metadata": {},
   "outputs": [],
   "source": [
    "matrix =[[0,0,0,1,0],\n",
    "         [0,0,0,0,0],\n",
    "         [0,2,0,0,0],\n",
    "         [0,0,0,0,0],\n",
    "         [0,0,0,3,0]]"
   ]
  },
  {
   "cell_type": "code",
   "execution_count": null,
   "metadata": {},
   "outputs": [],
   "source": [
    "print (matrix)"
   ]
  },
  {
   "cell_type": "code",
   "execution_count": null,
   "metadata": {},
   "outputs": [],
   "source": [
    "matrix2 = {(0, 3): 1, (2, 1): 2, (4, 3): 3}"
   ]
  },
  {
   "cell_type": "code",
   "execution_count": null,
   "metadata": {},
   "outputs": [],
   "source": [
    "print (matrix2[0,3])"
   ]
  },
  {
   "cell_type": "code",
   "execution_count": null,
   "metadata": {},
   "outputs": [],
   "source": [
    "print(matrix2.get((1, 3), 0))"
   ]
  },
  {
   "cell_type": "code",
   "execution_count": null,
   "metadata": {},
   "outputs": [],
   "source": []
  }
 ],
 "metadata": {
  "kernelspec": {
   "display_name": "Python 3",
   "language": "python",
   "name": "python3"
  },
  "language_info": {
   "codemirror_mode": {
    "name": "ipython",
    "version": 3
   },
   "file_extension": ".py",
   "mimetype": "text/x-python",
   "name": "python",
   "nbconvert_exporter": "python",
   "pygments_lexer": "ipython3",
   "version": "3.7.7"
  }
 },
 "nbformat": 4,
 "nbformat_minor": 2
}
